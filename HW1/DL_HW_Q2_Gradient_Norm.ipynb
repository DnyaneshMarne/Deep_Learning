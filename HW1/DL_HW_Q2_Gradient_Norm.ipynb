{
 "cells": [
  {
   "cell_type": "code",
   "execution_count": 145,
   "id": "fd5c8e5c",
   "metadata": {},
   "outputs": [],
   "source": [
    "import torch\n",
    "import torch.nn as nn\n",
    "import torch.nn.functional as F\n",
    "import torchvision\n",
    "import torchvision.transforms as transforms\n",
    "import matplotlib.pyplot as plt\n",
    "import numpy as np\n",
    "import torch.optim as optim"
   ]
  },
  {
   "cell_type": "code",
   "execution_count": 146,
   "id": "7f24e6df",
   "metadata": {},
   "outputs": [],
   "source": [
    "#device setup\n",
    "device = 'cuda' if torch.cuda.is_available() else 'cpu'"
   ]
  },
  {
   "cell_type": "code",
   "execution_count": 147,
   "id": "9525c275",
   "metadata": {},
   "outputs": [
    {
     "data": {
      "image/png": "[encoded data removed]",
      "text/plain": [
       "<Figure size 720x288 with 1 Axes>"
      ]
     },
     "metadata": {
      "needs_background": "light"
     },
     "output_type": "display_data"
    }
   ],
   "source": [
    "torch.manual_seed(1)\n",
    "np.random.seed(1)\n",
    "\n",
    "x = torch.unsqueeze(torch.linspace(2,-2,200),dim=1)\n",
    "y = (np.sin(5*np.pi*x))/(2*x)\n",
    "\n",
    "#convert into tensors for pytorch\n",
    "x = x.clone().detach()\n",
    "y = y.clone().detach()\n",
    "\n",
    "#plot the non linear function\n",
    "plt.figure(figsize=(10,4))\n",
    "plt.plot(x, y, color = \"red\")\n",
    "plt.title('Non-Linear Function Plot')\n",
    "plt.ylabel('Y as a sine function')\n",
    "plt.xlabel('X from -2 to 2')\n",
    "\n",
    "plt.show()"
   ]
  },
  {
   "cell_type": "code",
   "execution_count": 148,
   "id": "1b939a28",
   "metadata": {},
   "outputs": [],
   "source": [
    "#Define model 1 \n",
    "model_one = nn.Sequential(\n",
    "                nn.Linear(1,5),\n",
    "                nn.ReLU(),\n",
    "                nn.Linear(5,10),\n",
    "                nn.ReLU(),\n",
    "                nn.Linear(10,10),\n",
    "                nn.ReLU(),\n",
    "                nn.Linear(10,10),\n",
    "                nn.ReLU(),\n",
    "                nn.Linear(10,10),\n",
    "                nn.ReLU(),\n",
    "                nn.Linear(10,10),\n",
    "                nn.ReLU(),\n",
    "                nn.Linear(10,5),\n",
    "                nn.ReLU(),\n",
    "                nn.Linear(5,1)\n",
    "                )"
   ]
  },
  {
   "cell_type": "code",
   "execution_count": 149,
   "id": "84e9bba8",
   "metadata": {},
   "outputs": [],
   "source": [
    "#Optimizer with model one parameter\n",
    "optimizer_SGD = optim.SGD(model_one.parameters(), lr=0.01, momentum=0.9)"
   ]
  },
  {
   "cell_type": "code",
   "execution_count": 150,
   "id": "75e2efd2",
   "metadata": {},
   "outputs": [],
   "source": [
    "#loss function mean squared error\n",
    "mean_s_loss_func = torch.nn.MSELoss() "
   ]
  },
  {
   "cell_type": "code",
   "execution_count": 151,
   "id": "e45127c2",
   "metadata": {},
   "outputs": [],
   "source": [
    "def gradientNormLoop(model,x,y,epoch_range):\n",
    "    n_epoch = []\n",
    "    n_epoch_err = []\n",
    "    n_gradient_norm = []\n",
    "    for epoch in range(epoch_range):\n",
    "        n_epoch.append(epoch)\n",
    "        y_predicted = model(x)\n",
    "        loss = mean_s_loss_func(y_predicted, y)\n",
    "        loss.backward()\n",
    "        n_epoch_err.append(loss.detach().numpy())\n",
    "        optimizer_SGD.step()\n",
    "        grad_all = 0.0\n",
    "        for p in model.parameters():\n",
    "            grad = 0.0\n",
    "            if p.grad is not None:\n",
    "                grad = (p.grad.cpu().data.numpy()**2).sum()\n",
    "            grad_all += grad\n",
    "        grad_norm = grad_all ** 0.5\n",
    "        n_gradient_norm.append(grad_norm)\n",
    "        optimizer_SGD.zero_grad()\n",
    "        \n",
    "        if epoch%500 == 0:\n",
    "            print('Epoch ', epoch,' Loss ', loss.detach().numpy())\n",
    "    return n_epoch,n_epoch_err,n_gradient_norm"
   ]
  },
  {
   "cell_type": "code",
   "execution_count": 152,
   "id": "ad74734c",
   "metadata": {},
   "outputs": [
    {
     "name": "stdout",
     "output_type": "stream",
     "text": [
      "Epoch  0  Loss  2.8955865\n",
      "Epoch  500  Loss  2.8911364\n",
      "Epoch  1000  Loss  2.8911273\n",
      "Epoch  1500  Loss  2.8911037\n",
      "Epoch  2000  Loss  2.8910258\n",
      "Epoch  2500  Loss  2.890407\n",
      "Epoch  3000  Loss  0.47463393\n",
      "Epoch  3500  Loss  0.10876614\n",
      "Epoch  4000  Loss  0.075126976\n",
      "Epoch  4500  Loss  0.06791179\n",
      "Epoch  5000  Loss  0.09489952\n",
      "Epoch  5500  Loss  0.06825542\n",
      "Epoch  6000  Loss  0.059186846\n",
      "Epoch  6500  Loss  0.059866868\n",
      "Epoch  7000  Loss  0.05505095\n",
      "Epoch  7500  Loss  0.053141855\n",
      "Epoch  8000  Loss  0.054417554\n",
      "Epoch  8500  Loss  0.048549347\n",
      "Epoch  9000  Loss  0.04593643\n",
      "Epoch  9500  Loss  0.030843545\n",
      "Epoch  10000  Loss  0.02996479\n",
      "Epoch  10500  Loss  0.028441656\n",
      "Epoch  11000  Loss  0.025287587\n",
      "Epoch  11500  Loss  0.025301235\n",
      "Epoch  12000  Loss  0.02551385\n",
      "Epoch  12500  Loss  0.024747262\n",
      "Epoch  13000  Loss  0.024763322\n",
      "Epoch  13500  Loss  0.024827125\n",
      "Epoch  14000  Loss  0.024743402\n",
      "Epoch  14500  Loss  0.024685144\n",
      "Epoch  15000  Loss  0.024613326\n",
      "Epoch  15500  Loss  0.024603548\n",
      "Epoch  16000  Loss  0.024728945\n",
      "Epoch  16500  Loss  0.024813484\n",
      "Epoch  17000  Loss  0.024800727\n",
      "Epoch  17500  Loss  0.02451924\n",
      "Epoch  18000  Loss  0.02462868\n",
      "Epoch  18500  Loss  0.024547337\n",
      "Epoch  19000  Loss  0.024597192\n",
      "Epoch  19500  Loss  0.024582358\n"
     ]
    }
   ],
   "source": [
    "model_one_epochs,model_one_err,model_one_prediction = gradientNormLoop(model_one,x,y,20000)"
   ]
  },
  {
   "cell_type": "code",
   "execution_count": 153,
   "id": "1715d64f",
   "metadata": {},
   "outputs": [
    {
     "data": {
      "image/png": "[encoded data removed]",
      "text/plain": [
       "<Figure size 432x288 with 1 Axes>"
      ]
     },
     "metadata": {
      "needs_background": "light"
     },
     "output_type": "display_data"
    }
   ],
   "source": [
    "#plot model one epoch vs loss\n",
    "axis_range = [i for i in range(len(model_one_err))]\n",
    "plt.plot(model_one_epochs,model_one_err,color=\"blue\")\n",
    "plt.title('Model 1 Loss')\n",
    "plt.xlabel('epochs')\n",
    "plt.ylabel('Loss')\n",
    "plt.show()"
   ]
  },
  {
   "cell_type": "code",
   "execution_count": 154,
   "id": "3cd05152",
   "metadata": {},
   "outputs": [
    {
     "data": {
      "image/png": "[encoded data removed]",
      "text/plain": [
       "<Figure size 432x288 with 1 Axes>"
      ]
     },
     "metadata": {
      "needs_background": "light"
     },
     "output_type": "display_data"
    }
   ],
   "source": [
    "#plot model one predicted and actual\n",
    "#plt.plot(x.numpy(),y.numpy(),color=\"black\")\n",
    "#axis_range = [i for i in range(len(model_one_prediction))]\n",
    "plt.plot(model_one_epochs,model_one_prediction,color=\"blue\")\n",
    "plt.title('Model Prediction 1')\n",
    "plt.xlabel('epochs')\n",
    "plt.ylabel('Gradient Norm')\n",
    "plt.show()"
   ]
  },
  {
   "cell_type": "code",
   "execution_count": 155,
   "id": "b47ef0e2",
   "metadata": {},
   "outputs": [
    {
     "name": "stdout",
     "output_type": "stream",
     "text": [
      "0.09997600125171946\n"
     ]
    }
   ],
   "source": [
    "print(model_one_prediction[5])"
   ]
  },
  {
   "cell_type": "code",
   "execution_count": null,
   "id": "815effbe",
   "metadata": {},
   "outputs": [],
   "source": []
  }
 ],
 "metadata": {
  "kernelspec": {
   "display_name": "Python 3 (ipykernel)",
   "language": "python",
   "name": "python3"
  },
  "language_info": {
   "codemirror_mode": {
    "name": "ipython",
    "version": 3
   },
   "file_extension": ".py",
   "mimetype": "text/x-python",
   "name": "python",
   "nbconvert_exporter": "python",
   "pygments_lexer": "ipython3",
   "version": "3.9.7"
  }
 },
 "nbformat": 4,
 "nbformat_minor": 5
}
